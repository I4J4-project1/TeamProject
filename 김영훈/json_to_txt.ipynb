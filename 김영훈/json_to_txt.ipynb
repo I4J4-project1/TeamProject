{
 "cells": [
  {
   "cell_type": "code",
   "execution_count": null,
   "id": "73d9cd97",
   "metadata": {},
   "outputs": [],
   "source": [
    "import os\n",
    "import json"
   ]
  },
  {
   "cell_type": "code",
   "execution_count": null,
   "id": "bc69fe0f",
   "metadata": {},
   "outputs": [],
   "source": [
    "os.getcwd()"
   ]
  },
  {
   "cell_type": "code",
   "execution_count": null,
   "id": "a3865453",
   "metadata": {},
   "outputs": [],
   "source": [
    "os.chdir('../')"
   ]
  },
  {
   "cell_type": "code",
   "execution_count": null,
   "id": "60703286",
   "metadata": {},
   "outputs": [],
   "source": [
    "os.getcwd()"
   ]
  },
  {
   "cell_type": "code",
   "execution_count": null,
   "id": "69c82a74",
   "metadata": {},
   "outputs": [],
   "source": [
    "os.chdir('data/precleaning_data/labels')"
   ]
  },
  {
   "cell_type": "code",
   "execution_count": null,
   "id": "8a133a82",
   "metadata": {},
   "outputs": [],
   "source": [
    "path = os.getcwd()"
   ]
  },
  {
   "cell_type": "code",
   "execution_count": null,
   "id": "6666a743",
   "metadata": {},
   "outputs": [],
   "source": [
    "filename_list = os.listdir()"
   ]
  },
  {
   "cell_type": "code",
   "execution_count": null,
   "id": "02ed162f",
   "metadata": {},
   "outputs": [],
   "source": [
    "# json -> txt\n",
    "\n",
    "for filename in filename_list:\n",
    "    with open(path + '/' + filename, encoding = 'utf-8') as f:\n",
    "        data = json.load(f)\n",
    "           \n",
    "    for i in range(len(data['annotations']['PM'])):\n",
    "        pm_code = int(data['annotations']['PM'][i]['PM_code']) - 12\n",
    "        if pm_code >= 1 and pm_code <= 7:\n",
    "            width = data['annotations']['PM'][i]['points'][2] \n",
    "            height = data['annotations']['PM'][i]['points'][3]\n",
    "            x = data['annotations']['PM'][i]['points'][0] + width / 2\n",
    "            y = data['annotations']['PM'][i]['points'][1] + height / 2  \n",
    "            new_line = f'{pm_code} {x} {y} {width} {height}'\n",
    "            print(new_line)\n",
    "\n",
    "            with open(path + '/txt/' + filename.split('.')[0] + '.txt', 'w+') as f_txt:\n",
    "                f_txt.write(new_line)\n",
    "                f_txt.write('\\n')"
   ]
  },
  {
   "cell_type": "code",
   "execution_count": null,
   "id": "3eca554d",
   "metadata": {},
   "outputs": [],
   "source": []
  },
  {
   "cell_type": "code",
   "execution_count": null,
   "id": "03532e03",
   "metadata": {},
   "outputs": [],
   "source": []
  },
  {
   "cell_type": "code",
   "execution_count": null,
   "id": "9d00ec9f",
   "metadata": {},
   "outputs": [],
   "source": []
  },
  {
   "cell_type": "code",
   "execution_count": null,
   "id": "92ef5fe4",
   "metadata": {},
   "outputs": [],
   "source": []
  },
  {
   "cell_type": "code",
   "execution_count": null,
   "id": "39a8d62d",
   "metadata": {},
   "outputs": [],
   "source": []
  },
  {
   "cell_type": "code",
   "execution_count": null,
   "id": "8b189411",
   "metadata": {},
   "outputs": [],
   "source": []
  }
 ],
 "metadata": {
  "kernelspec": {
   "display_name": "Python 3 (ipykernel)",
   "language": "python",
   "name": "python3"
  },
  "language_info": {
   "codemirror_mode": {
    "name": "ipython",
    "version": 3
   },
   "file_extension": ".py",
   "mimetype": "text/x-python",
   "name": "python",
   "nbconvert_exporter": "python",
   "pygments_lexer": "ipython3",
   "version": "3.9.13"
  }
 },
 "nbformat": 4,
 "nbformat_minor": 5
}
