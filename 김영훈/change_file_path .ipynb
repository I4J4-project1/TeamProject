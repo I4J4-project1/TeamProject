{
 "cells": [
  {
   "cell_type": "code",
   "execution_count": 1,
   "id": "3effd947",
   "metadata": {},
   "outputs": [],
   "source": [
    "import os\n",
    "import shutil"
   ]
  },
  {
   "cell_type": "code",
   "execution_count": 2,
   "id": "2c3aada4",
   "metadata": {},
   "outputs": [
    {
     "data": {
      "text/plain": [
       "'C:\\\\Users\\\\user\\\\section6\\\\tp2\\\\code_file'"
      ]
     },
     "execution_count": 2,
     "metadata": {},
     "output_type": "execute_result"
    }
   ],
   "source": [
    "os.getcwd()"
   ]
  },
  {
   "cell_type": "code",
   "execution_count": 3,
   "id": "41bb5d4f",
   "metadata": {},
   "outputs": [],
   "source": [
    "os.chdir('../')"
   ]
  },
  {
   "cell_type": "code",
   "execution_count": 8,
   "id": "b14b9eba",
   "metadata": {},
   "outputs": [],
   "source": [
    "os.chdir('data')"
   ]
  },
  {
   "cell_type": "code",
   "execution_count": 9,
   "id": "ef196650",
   "metadata": {},
   "outputs": [],
   "source": [
    "os.chdir('120.개인형 이동장치 안전 데이터/01.데이터/2.Validation')"
   ]
  },
  {
   "cell_type": "code",
   "execution_count": 10,
   "id": "4df0c317",
   "metadata": {},
   "outputs": [
    {
     "data": {
      "text/plain": [
       "'C:\\\\Users\\\\user\\\\section6\\\\tp2\\\\data\\\\120.개인형 이동장치 안전 데이터\\\\01.데이터\\\\2.Validation'"
      ]
     },
     "execution_count": 10,
     "metadata": {},
     "output_type": "execute_result"
    }
   ],
   "source": [
    "os.getcwd()"
   ]
  },
  {
   "cell_type": "code",
   "execution_count": 11,
   "id": "1c1b1430",
   "metadata": {},
   "outputs": [],
   "source": [
    "path = os.getcwd()"
   ]
  },
  {
   "cell_type": "code",
   "execution_count": 12,
   "id": "5ccf424b",
   "metadata": {},
   "outputs": [
    {
     "data": {
      "text/plain": [
       "'C:\\\\Users\\\\user\\\\section6\\\\tp2\\\\data\\\\120.개인형 이동장치 안전 데이터\\\\01.데이터\\\\2.Validation'"
      ]
     },
     "execution_count": 12,
     "metadata": {},
     "output_type": "execute_result"
    }
   ],
   "source": [
    "path"
   ]
  },
  {
   "cell_type": "code",
   "execution_count": 13,
   "id": "ff3a6e5e",
   "metadata": {},
   "outputs": [],
   "source": [
    "os.chdir('../../../precleaning_data')"
   ]
  },
  {
   "cell_type": "code",
   "execution_count": 14,
   "id": "b5aa83c7",
   "metadata": {},
   "outputs": [],
   "source": [
    "new_path = os.getcwd()"
   ]
  },
  {
   "cell_type": "code",
   "execution_count": 17,
   "id": "533a9524",
   "metadata": {},
   "outputs": [
    {
     "data": {
      "text/plain": [
       "'C:\\\\Users\\\\user\\\\section6\\\\tp2\\\\data\\\\precleaning_data/labels/'"
      ]
     },
     "execution_count": 17,
     "metadata": {},
     "output_type": "execute_result"
    }
   ],
   "source": [
    "new_path = new_path + '/labels/'\n",
    "new_path"
   ]
  },
  {
   "cell_type": "code",
   "execution_count": 19,
   "id": "8fccadaf",
   "metadata": {},
   "outputs": [],
   "source": [
    "filename_list = []\n",
    "for fd1 in os.listdir(path):\n",
    "    path1 = path + '/' + fd1\n",
    "    for fd2 in os.listdir(path1):\n",
    "        path2 = path1 + '/' + fd2\n",
    "        for fd3 in os.listdir(path2):\n",
    "            path3 = path2 + '/' + fd3\n",
    "            for fd4 in os.listdir(path3):\n",
    "                path4 = path3 + '/' + fd4\n",
    "                for fd5 in os.listdir(path4):\n",
    "                    path5 = path4 + '/' + fd5\n",
    "                    for fd6 in os.listdir(path5):\n",
    "                        path6 = path5 + '/' + fd6\n",
    "                        for filename in os.listdir(path6):\n",
    "                            filename_list.append(filename)\n",
    "                            shutil.move(path6 + '/' + filename, new_path + filename)"
   ]
  },
  {
   "cell_type": "code",
   "execution_count": 26,
   "id": "f0e42a82",
   "metadata": {},
   "outputs": [
    {
     "ename": "FileNotFoundError",
     "evalue": "[WinError 2] 지정된 파일을 찾을 수 없습니다: 'images'",
     "output_type": "error",
     "traceback": [
      "\u001b[1;31m---------------------------------------------------------------------------\u001b[0m",
      "\u001b[1;31mFileNotFoundError\u001b[0m                         Traceback (most recent call last)",
      "\u001b[1;32m~\\AppData\\Local\\Temp\\ipykernel_13912\\646833491.py\u001b[0m in \u001b[0;36m<module>\u001b[1;34m\u001b[0m\n\u001b[1;32m----> 1\u001b[1;33m \u001b[0mnew_path2\u001b[0m \u001b[1;33m=\u001b[0m \u001b[0mos\u001b[0m\u001b[1;33m.\u001b[0m\u001b[0mchdir\u001b[0m\u001b[1;33m(\u001b[0m\u001b[1;34m'images'\u001b[0m\u001b[1;33m)\u001b[0m\u001b[1;33m\u001b[0m\u001b[1;33m\u001b[0m\u001b[0m\n\u001b[0m",
      "\u001b[1;31mFileNotFoundError\u001b[0m: [WinError 2] 지정된 파일을 찾을 수 없습니다: 'images'"
     ]
    }
   ],
   "source": [
    "new_path2 = os.chdir('images')"
   ]
  },
  {
   "cell_type": "code",
   "execution_count": 34,
   "id": "a2ecc7c8",
   "metadata": {},
   "outputs": [],
   "source": [
    "image_path = os.getcwd()"
   ]
  },
  {
   "cell_type": "code",
   "execution_count": 35,
   "id": "a6f33f52",
   "metadata": {},
   "outputs": [
    {
     "data": {
      "text/plain": [
       "'C:\\\\Users\\\\user\\\\section6\\\\tp2\\\\data\\\\precleaning_data\\\\images'"
      ]
     },
     "execution_count": 35,
     "metadata": {},
     "output_type": "execute_result"
    }
   ],
   "source": [
    "image_path"
   ]
  },
  {
   "cell_type": "code",
   "execution_count": 36,
   "id": "d8c37d86",
   "metadata": {},
   "outputs": [],
   "source": [
    "label_path = new_path"
   ]
  },
  {
   "cell_type": "code",
   "execution_count": 37,
   "id": "2bf8b15c",
   "metadata": {},
   "outputs": [
    {
     "data": {
      "text/plain": [
       "'C:\\\\Users\\\\user\\\\section6\\\\tp2\\\\data\\\\precleaning_data/labels/'"
      ]
     },
     "execution_count": 37,
     "metadata": {},
     "output_type": "execute_result"
    }
   ],
   "source": [
    "label_path"
   ]
  },
  {
   "cell_type": "code",
   "execution_count": 38,
   "id": "474164cd",
   "metadata": {},
   "outputs": [],
   "source": [
    "for filename in os.listdir(label_path):\n",
    "    if 'jpg' in filename:\n",
    "        shutil.move(label_path + filename, image_path + '/' + filename)"
   ]
  },
  {
   "cell_type": "code",
   "execution_count": null,
   "id": "0287b2ba",
   "metadata": {},
   "outputs": [],
   "source": []
  }
 ],
 "metadata": {
  "kernelspec": {
   "display_name": "Python 3 (ipykernel)",
   "language": "python",
   "name": "python3"
  },
  "language_info": {
   "codemirror_mode": {
    "name": "ipython",
    "version": 3
   },
   "file_extension": ".py",
   "mimetype": "text/x-python",
   "name": "python",
   "nbconvert_exporter": "python",
   "pygments_lexer": "ipython3",
   "version": "3.9.13"
  }
 },
 "nbformat": 4,
 "nbformat_minor": 5
}
