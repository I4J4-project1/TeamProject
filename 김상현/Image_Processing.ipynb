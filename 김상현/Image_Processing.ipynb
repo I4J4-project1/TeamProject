{
 "cells": [
  {
   "cell_type": "code",
   "execution_count": 9,
   "metadata": {},
   "outputs": [],
   "source": [
    "import os\n",
    "import shutil\n",
    "from tqdm import tqdm\n",
    "import json\n",
    "import pandas as pd\n",
    "import cv2\n",
    "from sklearn.model_selection import train_test_split\n",
    "import numpy as np"
   ]
  },
  {
   "attachments": {},
   "cell_type": "markdown",
   "metadata": {},
   "source": [
    "# GrayScaling"
   ]
  },
  {
   "cell_type": "code",
   "execution_count": 5,
   "metadata": {},
   "outputs": [
    {
     "name": "stderr",
     "output_type": "stream",
     "text": [
      "Processing train: 100%|██████████| 21336/21336 [04:48<00:00, 73.94it/s]\n",
      "Processing val: 100%|██████████| 4001/4001 [00:55<00:00, 72.57it/s]\n",
      "Processing test: 100%|██████████| 1334/1334 [00:18<00:00, 72.78it/s]"
     ]
    },
    {
     "name": "stdout",
     "output_type": "stream",
     "text": [
      "전처리 완료!\n"
     ]
    },
    {
     "name": "stderr",
     "output_type": "stream",
     "text": [
      "\n"
     ]
    }
   ],
   "source": [
    "# 경로 설정\n",
    "input_dir = 'C:/GitHub/yolov5m/datasets_640/images'\n",
    "output_dir = 'C:/GitHub/yolov5m/datasets_640_black/images'\n",
    "\n",
    "# 폴더명 설정\n",
    "folders = ['train', 'val', 'test']\n",
    "\n",
    "# 폴더 생성\n",
    "for folder in folders:\n",
    "    output_folder = os.path.join(output_dir, folder)\n",
    "    if not os.path.exists(output_folder):\n",
    "        os.makedirs(output_folder)\n",
    "\n",
    "    input_folder = os.path.join(input_dir, folder)\n",
    "    files = os.listdir(input_folder)\n",
    "\n",
    "    # 이미지 파일 전처리\n",
    "    for file in tqdm(files, desc=f'Processing {folder}'):\n",
    "        img_path = os.path.join(input_folder, file)\n",
    "        output_path = os.path.join(output_folder, file)\n",
    "\n",
    "        # 이미지 로드\n",
    "        image = cv2.imread(img_path)\n",
    "\n",
    "        # Grayscale 전처리\n",
    "        grayscale_image = cv2.cvtColor(image, cv2.COLOR_BGR2GRAY)\n",
    "\n",
    "        # 이미지 저장\n",
    "        cv2.imwrite(output_path, grayscale_image)\n",
    "\n",
    "print(\"전처리 완료!\")"
   ]
  },
  {
   "attachments": {},
   "cell_type": "markdown",
   "metadata": {},
   "source": [
    "# Embossing"
   ]
  },
  {
   "cell_type": "code",
   "execution_count": 10,
   "metadata": {},
   "outputs": [
    {
     "name": "stderr",
     "output_type": "stream",
     "text": [
      "Processing train: 100%|██████████| 21336/21336 [06:31<00:00, 54.53it/s]\n",
      "Processing val: 100%|██████████| 4001/4001 [01:11<00:00, 55.67it/s]\n",
      "Processing test: 100%|██████████| 1334/1334 [00:28<00:00, 47.24it/s]"
     ]
    },
    {
     "name": "stdout",
     "output_type": "stream",
     "text": [
      "전처리 완료!\n"
     ]
    },
    {
     "name": "stderr",
     "output_type": "stream",
     "text": [
      "\n"
     ]
    }
   ],
   "source": [
    "# 경로 설정\n",
    "input_dir = 'C:/GitHub/yolov5m/datasets_640/images'\n",
    "output_dir = 'C:\\GitHub\\yolov5m\\datasets_640_embossed\\images'\n",
    "\n",
    "# 폴더명 설정\n",
    "folders = ['train', 'val', 'test']\n",
    "\n",
    "# 폴더 생성\n",
    "for folder in folders:\n",
    "    output_folder = os.path.join(output_dir, folder)\n",
    "    if not os.path.exists(output_folder):\n",
    "        os.makedirs(output_folder)\n",
    "\n",
    "    input_folder = os.path.join(input_dir, folder)\n",
    "    files = os.listdir(input_folder)\n",
    "\n",
    "    # 이미지 파일 전처리\n",
    "    for file in tqdm(files, desc=f'Processing {folder}'):\n",
    "        img_path = os.path.join(input_folder, file)\n",
    "        output_path = os.path.join(output_folder, file)\n",
    "\n",
    "        # 이미지 로드\n",
    "        image = cv2.imread(img_path)\n",
    "\n",
    "        # 엠보싱 전처리\n",
    "        kernel_embossing = np.array([[0, -1, -1],\n",
    "                                     [1, 0, -1],\n",
    "                                     [1, 1, 0]])\n",
    "        embossed_image = cv2.filter2D(image, -1, kernel_embossing)\n",
    "\n",
    "        # 이미지 저장\n",
    "        cv2.imwrite(output_path, embossed_image)\n",
    "\n",
    "print(\"전처리 완료!\")"
   ]
  },
  {
   "attachments": {},
   "cell_type": "markdown",
   "metadata": {},
   "source": [
    "# Flip"
   ]
  },
  {
   "cell_type": "code",
   "execution_count": 6,
   "metadata": {},
   "outputs": [
    {
     "name": "stderr",
     "output_type": "stream",
     "text": [
      "Processing train: 100%|██████████| 21336/21336 [05:52<00:00, 60.46it/s]\n",
      "Processing val: 100%|██████████| 4001/4001 [01:05<00:00, 60.72it/s]\n",
      "Processing test: 100%|██████████| 1334/1334 [00:21<00:00, 60.93it/s]"
     ]
    },
    {
     "name": "stdout",
     "output_type": "stream",
     "text": [
      "전처리 완료!\n"
     ]
    },
    {
     "name": "stderr",
     "output_type": "stream",
     "text": [
      "\n"
     ]
    }
   ],
   "source": [
    "# 경로 설정\n",
    "input_dir = 'C:/GitHub/yolov5m/datasets_640/images'\n",
    "output_dir = 'C:/GitHub/yolov5m/datasets_640_flip/images'\n",
    "\n",
    "# 폴더명 설정\n",
    "folders = ['train', 'val', 'test']\n",
    "\n",
    "# 폴더 생성\n",
    "for folder in folders:\n",
    "    output_folder = os.path.join(output_dir, folder)\n",
    "    if not os.path.exists(output_folder):\n",
    "        os.makedirs(output_folder)\n",
    "\n",
    "    input_folder = os.path.join(input_dir, folder)\n",
    "    files = os.listdir(input_folder)\n",
    "\n",
    "    # 이미지 파일 전처리\n",
    "    for file in tqdm(files, desc=f'Processing {folder}'):\n",
    "        img_path = os.path.join(input_folder, file)\n",
    "        output_path = os.path.join(output_folder, file)\n",
    "\n",
    "        # 이미지 로드\n",
    "        image = cv2.imread(img_path)\n",
    "\n",
    "        # 좌우 반전 전처리\n",
    "        flipped_image = cv2.flip(image, 1)\n",
    "\n",
    "        # 이미지 저장\n",
    "        cv2.imwrite(output_path, flipped_image)\n",
    "\n",
    "print(\"전처리 완료!\")"
   ]
  },
  {
   "cell_type": "code",
   "execution_count": 7,
   "metadata": {},
   "outputs": [
    {
     "name": "stderr",
     "output_type": "stream",
     "text": [
      "Processing train: 100%|██████████| 21336/21336 [00:15<00:00, 1353.38it/s]\n",
      "Processing val: 100%|██████████| 4001/4001 [00:02<00:00, 1480.76it/s]\n",
      "Processing test: 100%|██████████| 1334/1334 [00:00<00:00, 1522.83it/s]"
     ]
    },
    {
     "name": "stdout",
     "output_type": "stream",
     "text": [
      "전처리 완료!\n"
     ]
    },
    {
     "name": "stderr",
     "output_type": "stream",
     "text": [
      "\n"
     ]
    }
   ],
   "source": [
    "# 경로 설정\n",
    "label_dir = 'C:/GitHub/yolov5m/datasets_640/labels'\n",
    "output_label_dir = 'C:/GitHub/yolov5m/datasets_640_flip/labels'\n",
    "\n",
    "# 폴더명 설정\n",
    "folders = ['train', 'val', 'test']\n",
    "\n",
    "# 폴더 생성\n",
    "for folder in folders:\n",
    "    output_label_folder = os.path.join(output_label_dir, folder)\n",
    "    if not os.path.exists(output_label_folder):\n",
    "        os.makedirs(output_label_folder)\n",
    "\n",
    "    label_folder = os.path.join(label_dir, folder)\n",
    "    label_files = os.listdir(label_folder)\n",
    "\n",
    "    # 라벨 데이터 파일 전처리\n",
    "    for label_file in tqdm(label_files, desc=f'Processing {folder}'):\n",
    "        label_path = os.path.join(label_folder, label_file)\n",
    "        output_label_path = os.path.join(output_label_folder, label_file)\n",
    "\n",
    "        # 라벨 데이터 읽기\n",
    "        with open(label_path, 'r') as f:\n",
    "            label_data = f.read()\n",
    "\n",
    "        # 라벨 데이터 좌우 반전 전처리\n",
    "        flipped_label_data = ''\n",
    "        labels = label_data.split('\\n')\n",
    "        for label in labels:\n",
    "            if label:\n",
    "                label_parts = label.split(' ')\n",
    "                flipped_x = 1.0 - float(label_parts[1])  # x 좌표 반전\n",
    "                flipped_label = f\"{label_parts[0]} {flipped_x} {label_parts[2]} {label_parts[3]} {label_parts[4]}\\n\"\n",
    "                flipped_label_data += flipped_label\n",
    "\n",
    "        # 라벨 데이터 저장\n",
    "        with open(output_label_path, 'w') as f:\n",
    "            f.write(flipped_label_data)\n",
    "\n",
    "print(\"전처리 완료!\")"
   ]
  }
 ],
 "metadata": {
  "kernelspec": {
   "display_name": "Python 3",
   "language": "python",
   "name": "python3"
  },
  "language_info": {
   "codemirror_mode": {
    "name": "ipython",
    "version": 3
   },
   "file_extension": ".py",
   "mimetype": "text/x-python",
   "name": "python",
   "nbconvert_exporter": "python",
   "pygments_lexer": "ipython3",
   "version": "3.7.16"
  },
  "orig_nbformat": 4
 },
 "nbformat": 4,
 "nbformat_minor": 2
}
