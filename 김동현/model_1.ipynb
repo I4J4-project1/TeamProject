{
 "cells": [
  {
   "cell_type": "code",
   "execution_count": null,
   "metadata": {},
   "outputs": [],
   "source": [
    "# python model_main_tf2.py --pipeline_config_path=D:\\Study\\TeamProject_2\\faster_rcnn_resnet50_v1_640x640_coco17_tpu-8.config --model_dir=D:\\Study\\TeamProject_2\\model --alsologtostderr"
   ]
  },
  {
   "cell_type": "code",
   "execution_count": 15,
   "metadata": {},
   "outputs": [
    {
     "ename": "TypeError",
     "evalue": "Descriptors cannot not be created directly.\nIf this call came from a _pb2.py file, your generated code is out of date and must be regenerated with protoc >= 3.19.0.\nIf you cannot immediately regenerate your protos, some other possible workarounds are:\n 1. Downgrade the protobuf package to 3.20.x or lower.\n 2. Set PROTOCOL_BUFFERS_PYTHON_IMPLEMENTATION=python (but this will use pure-Python parsing and will be much slower).\n\nMore information: https://developers.google.com/protocol-buffers/docs/news/2022-05-06#python-updates",
     "output_type": "error",
     "traceback": [
      "\u001b[1;31m---------------------------------------------------------------------------\u001b[0m",
      "\u001b[1;31mTypeError\u001b[0m                                 Traceback (most recent call last)",
      "Cell \u001b[1;32mIn[15], line 2\u001b[0m\n\u001b[0;32m      1\u001b[0m \u001b[39mimport\u001b[39;00m \u001b[39mtensorflow\u001b[39;00m \u001b[39mas\u001b[39;00m \u001b[39mtf\u001b[39;00m\n\u001b[1;32m----> 2\u001b[0m \u001b[39mfrom\u001b[39;00m \u001b[39mobject_detection\u001b[39;00m\u001b[39m.\u001b[39;00m\u001b[39mbuilders\u001b[39;00m \u001b[39mimport\u001b[39;00m model_builder\n\u001b[0;32m      4\u001b[0m \u001b[39m# 설정 파일 경로\u001b[39;00m\n\u001b[0;32m      5\u001b[0m config_path \u001b[39m=\u001b[39m \u001b[39m\"\u001b[39m\u001b[39mD:\u001b[39m\u001b[39m\\\u001b[39m\u001b[39mStudy\u001b[39m\u001b[39m\\\u001b[39m\u001b[39mTeamProject_2\u001b[39m\u001b[39m\\f\u001b[39;00m\u001b[39master_rcnn_resnet50_v1_640x640_coco17_tpu-8.config\u001b[39m\u001b[39m\"\u001b[39m\n",
      "File \u001b[1;32mc:\\Users\\k10dh\\anaconda3\\envs\\TP2\\lib\\site-packages\\object_detection\\builders\\model_builder.py:20\u001b[0m\n\u001b[0;32m     16\u001b[0m \u001b[39m\"\"\"A function to build a DetectionModel from configuration.\"\"\"\u001b[39;00m\n\u001b[0;32m     18\u001b[0m \u001b[39mimport\u001b[39;00m \u001b[39mfunctools\u001b[39;00m\n\u001b[1;32m---> 20\u001b[0m \u001b[39mfrom\u001b[39;00m \u001b[39mobject_detection\u001b[39;00m\u001b[39m.\u001b[39;00m\u001b[39mbuilders\u001b[39;00m \u001b[39mimport\u001b[39;00m anchor_generator_builder\n\u001b[0;32m     21\u001b[0m \u001b[39mfrom\u001b[39;00m \u001b[39mobject_detection\u001b[39;00m\u001b[39m.\u001b[39;00m\u001b[39mbuilders\u001b[39;00m \u001b[39mimport\u001b[39;00m box_coder_builder\n\u001b[0;32m     22\u001b[0m \u001b[39mfrom\u001b[39;00m \u001b[39mobject_detection\u001b[39;00m\u001b[39m.\u001b[39;00m\u001b[39mbuilders\u001b[39;00m \u001b[39mimport\u001b[39;00m box_predictor_builder\n",
      "File \u001b[1;32mc:\\Users\\k10dh\\anaconda3\\envs\\TP2\\lib\\site-packages\\object_detection\\builders\\anchor_generator_builder.py:21\u001b[0m\n\u001b[0;32m     19\u001b[0m \u001b[39mfrom\u001b[39;00m \u001b[39mobject_detection\u001b[39;00m\u001b[39m.\u001b[39;00m\u001b[39manchor_generators\u001b[39;00m \u001b[39mimport\u001b[39;00m multiple_grid_anchor_generator\n\u001b[0;32m     20\u001b[0m \u001b[39mfrom\u001b[39;00m \u001b[39mobject_detection\u001b[39;00m\u001b[39m.\u001b[39;00m\u001b[39manchor_generators\u001b[39;00m \u001b[39mimport\u001b[39;00m multiscale_grid_anchor_generator\n\u001b[1;32m---> 21\u001b[0m \u001b[39mfrom\u001b[39;00m \u001b[39mobject_detection\u001b[39;00m\u001b[39m.\u001b[39;00m\u001b[39mprotos\u001b[39;00m \u001b[39mimport\u001b[39;00m anchor_generator_pb2\n\u001b[0;32m     24\u001b[0m \u001b[39mdef\u001b[39;00m \u001b[39mbuild\u001b[39m(anchor_generator_config):\n\u001b[0;32m     25\u001b[0m \u001b[39m  \u001b[39m\u001b[39m\"\"\"Builds an anchor generator based on the config.\u001b[39;00m\n\u001b[0;32m     26\u001b[0m \n\u001b[0;32m     27\u001b[0m \u001b[39m  Args:\u001b[39;00m\n\u001b[1;32m   (...)\u001b[0m\n\u001b[0;32m     35\u001b[0m \u001b[39m    ValueError: On empty anchor generator proto.\u001b[39;00m\n\u001b[0;32m     36\u001b[0m \u001b[39m  \"\"\"\u001b[39;00m\n",
      "File \u001b[1;32mc:\\Users\\k10dh\\anaconda3\\envs\\TP2\\lib\\site-packages\\object_detection\\protos\\anchor_generator_pb2.py:16\u001b[0m\n\u001b[0;32m     11\u001b[0m \u001b[39m# @@protoc_insertion_point(imports)\u001b[39;00m\n\u001b[0;32m     13\u001b[0m _sym_db \u001b[39m=\u001b[39m _symbol_database\u001b[39m.\u001b[39mDefault()\n\u001b[1;32m---> 16\u001b[0m \u001b[39mfrom\u001b[39;00m \u001b[39mobject_detection\u001b[39;00m\u001b[39m.\u001b[39;00m\u001b[39mprotos\u001b[39;00m \u001b[39mimport\u001b[39;00m grid_anchor_generator_pb2 \u001b[39mas\u001b[39;00m object__detection_dot_protos_dot_grid__anchor__generator__pb2\n\u001b[0;32m     17\u001b[0m \u001b[39mfrom\u001b[39;00m \u001b[39mobject_detection\u001b[39;00m\u001b[39m.\u001b[39;00m\u001b[39mprotos\u001b[39;00m \u001b[39mimport\u001b[39;00m ssd_anchor_generator_pb2 \u001b[39mas\u001b[39;00m object__detection_dot_protos_dot_ssd__anchor__generator__pb2\n\u001b[0;32m     18\u001b[0m \u001b[39mfrom\u001b[39;00m \u001b[39mobject_detection\u001b[39;00m\u001b[39m.\u001b[39;00m\u001b[39mprotos\u001b[39;00m \u001b[39mimport\u001b[39;00m multiscale_anchor_generator_pb2 \u001b[39mas\u001b[39;00m object__detection_dot_protos_dot_multiscale__anchor__generator__pb2\n",
      "File \u001b[1;32mc:\\Users\\k10dh\\anaconda3\\envs\\TP2\\lib\\site-packages\\object_detection\\protos\\grid_anchor_generator_pb2.py:36\u001b[0m\n\u001b[0;32m     13\u001b[0m _sym_db \u001b[39m=\u001b[39m _symbol_database\u001b[39m.\u001b[39mDefault()\n\u001b[0;32m     18\u001b[0m DESCRIPTOR \u001b[39m=\u001b[39m _descriptor\u001b[39m.\u001b[39mFileDescriptor(\n\u001b[0;32m     19\u001b[0m   name\u001b[39m=\u001b[39m\u001b[39m'\u001b[39m\u001b[39mobject_detection/protos/grid_anchor_generator.proto\u001b[39m\u001b[39m'\u001b[39m,\n\u001b[0;32m     20\u001b[0m   package\u001b[39m=\u001b[39m\u001b[39m'\u001b[39m\u001b[39mobject_detection.protos\u001b[39m\u001b[39m'\u001b[39m,\n\u001b[1;32m   (...)\u001b[0m\n\u001b[0;32m     23\u001b[0m   serialized_pb\u001b[39m=\u001b[39m_b(\u001b[39m'\u001b[39m\u001b[39m\\n\u001b[39;00m\u001b[39m3object_detection/protos/grid_anchor_generator.proto\u001b[39m\u001b[39m\\x12\u001b[39;00m\u001b[39m\\x17\u001b[39;00m\u001b[39mobject_detection.protos\u001b[39m\u001b[39m\\\"\u001b[39;00m\u001b[39m\\xcd\u001b[39;00m\u001b[39m\\x01\u001b[39;00m\u001b[39m\\n\u001b[39;00m\u001b[39m\\x13\u001b[39;00m\u001b[39mGridAnchorGenerator\u001b[39m\u001b[39m\\x12\u001b[39;00m\u001b[39m\\x13\u001b[39;00m\u001b[39m\\n\u001b[39;00m\u001b[39m\\x06\u001b[39;00m\u001b[39mheight\u001b[39m\u001b[39m\\x18\u001b[39;00m\u001b[39m\\x01\u001b[39;00m\u001b[39m \u001b[39m\u001b[39m\\x01\u001b[39;00m\u001b[39m(\u001b[39m\u001b[39m\\x05\u001b[39;00m\u001b[39m:\u001b[39m\u001b[39m\\x03\u001b[39;00m\u001b[39m\\x32\u001b[39;00m\u001b[39m\\x35\u001b[39;00m\u001b[39m\\x36\u001b[39;00m\u001b[39m\\x12\u001b[39;00m\u001b[39m\\x12\u001b[39;00m\u001b[39m\\n\u001b[39;00m\u001b[39m\\x05\u001b[39;00m\u001b[39mwidth\u001b[39m\u001b[39m\\x18\u001b[39;00m\u001b[39m\\x02\u001b[39;00m\u001b[39m \u001b[39m\u001b[39m\\x01\u001b[39;00m\u001b[39m(\u001b[39m\u001b[39m\\x05\u001b[39;00m\u001b[39m:\u001b[39m\u001b[39m\\x03\u001b[39;00m\u001b[39m\\x32\u001b[39;00m\u001b[39m\\x35\u001b[39;00m\u001b[39m\\x36\u001b[39;00m\u001b[39m\\x12\u001b[39;00m\u001b[39m\\x19\u001b[39;00m\u001b[39m\\n\u001b[39;00m\u001b[39m\\r\u001b[39;00m\u001b[39mheight_stride\u001b[39m\u001b[39m\\x18\u001b[39;00m\u001b[39m\\x03\u001b[39;00m\u001b[39m \u001b[39m\u001b[39m\\x01\u001b[39;00m\u001b[39m(\u001b[39m\u001b[39m\\x05\u001b[39;00m\u001b[39m:\u001b[39m\u001b[39m\\x02\u001b[39;00m\u001b[39m\\x31\u001b[39;00m\u001b[39m\\x36\u001b[39;00m\u001b[39m\\x12\u001b[39;00m\u001b[39m\\x18\u001b[39;00m\u001b[39m\\n\u001b[39;00m\u001b[39m\\x0c\u001b[39;00m\u001b[39mwidth_stride\u001b[39m\u001b[39m\\x18\u001b[39;00m\u001b[39m\\x04\u001b[39;00m\u001b[39m \u001b[39m\u001b[39m\\x01\u001b[39;00m\u001b[39m(\u001b[39m\u001b[39m\\x05\u001b[39;00m\u001b[39m:\u001b[39m\u001b[39m\\x02\u001b[39;00m\u001b[39m\\x31\u001b[39;00m\u001b[39m\\x36\u001b[39;00m\u001b[39m\\x12\u001b[39;00m\u001b[39m\\x18\u001b[39;00m\u001b[39m\\n\u001b[39;00m\u001b[39m\\r\u001b[39;00m\u001b[39mheight_offset\u001b[39m\u001b[39m\\x18\u001b[39;00m\u001b[39m\\x05\u001b[39;00m\u001b[39m \u001b[39m\u001b[39m\\x01\u001b[39;00m\u001b[39m(\u001b[39m\u001b[39m\\x05\u001b[39;00m\u001b[39m:\u001b[39m\u001b[39m\\x01\u001b[39;00m\u001b[39m\\x30\u001b[39;00m\u001b[39m\\x12\u001b[39;00m\u001b[39m\\x17\u001b[39;00m\u001b[39m\\n\u001b[39;00m\u001b[39m\\x0c\u001b[39;00m\u001b[39mwidth_offset\u001b[39m\u001b[39m\\x18\u001b[39;00m\u001b[39m\\x06\u001b[39;00m\u001b[39m \u001b[39m\u001b[39m\\x01\u001b[39;00m\u001b[39m(\u001b[39m\u001b[39m\\x05\u001b[39;00m\u001b[39m:\u001b[39m\u001b[39m\\x01\u001b[39;00m\u001b[39m\\x30\u001b[39;00m\u001b[39m\\x12\u001b[39;00m\u001b[39m\\x0e\u001b[39;00m\u001b[39m\\n\u001b[39;00m\u001b[39m\\x06\u001b[39;00m\u001b[39mscales\u001b[39m\u001b[39m\\x18\u001b[39;00m\u001b[39m\\x07\u001b[39;00m\u001b[39m \u001b[39m\u001b[39m\\x03\u001b[39;00m\u001b[39m(\u001b[39m\u001b[39m\\x02\u001b[39;00m\u001b[39m\\x12\u001b[39;00m\u001b[39m\\x15\u001b[39;00m\u001b[39m\\n\u001b[39;00m\u001b[39m\\r\u001b[39;00m\u001b[39maspect_ratios\u001b[39m\u001b[39m\\x18\u001b[39;00m\u001b[39m\\x08\u001b[39;00m\u001b[39m \u001b[39m\u001b[39m\\x03\u001b[39;00m\u001b[39m(\u001b[39m\u001b[39m\\x02\u001b[39;00m\u001b[39m'\u001b[39m)\n\u001b[0;32m     24\u001b[0m )\n\u001b[0;32m     29\u001b[0m _GRIDANCHORGENERATOR \u001b[39m=\u001b[39m _descriptor\u001b[39m.\u001b[39mDescriptor(\n\u001b[0;32m     30\u001b[0m   name\u001b[39m=\u001b[39m\u001b[39m'\u001b[39m\u001b[39mGridAnchorGenerator\u001b[39m\u001b[39m'\u001b[39m,\n\u001b[0;32m     31\u001b[0m   full_name\u001b[39m=\u001b[39m\u001b[39m'\u001b[39m\u001b[39mobject_detection.protos.GridAnchorGenerator\u001b[39m\u001b[39m'\u001b[39m,\n\u001b[0;32m     32\u001b[0m   filename\u001b[39m=\u001b[39m\u001b[39mNone\u001b[39;00m,\n\u001b[0;32m     33\u001b[0m   file\u001b[39m=\u001b[39mDESCRIPTOR,\n\u001b[0;32m     34\u001b[0m   containing_type\u001b[39m=\u001b[39m\u001b[39mNone\u001b[39;00m,\n\u001b[0;32m     35\u001b[0m   fields\u001b[39m=\u001b[39m[\n\u001b[1;32m---> 36\u001b[0m     _descriptor\u001b[39m.\u001b[39;49mFieldDescriptor(\n\u001b[0;32m     37\u001b[0m       name\u001b[39m=\u001b[39;49m\u001b[39m'\u001b[39;49m\u001b[39mheight\u001b[39;49m\u001b[39m'\u001b[39;49m, full_name\u001b[39m=\u001b[39;49m\u001b[39m'\u001b[39;49m\u001b[39mobject_detection.protos.GridAnchorGenerator.height\u001b[39;49m\u001b[39m'\u001b[39;49m, index\u001b[39m=\u001b[39;49m\u001b[39m0\u001b[39;49m,\n\u001b[0;32m     38\u001b[0m       number\u001b[39m=\u001b[39;49m\u001b[39m1\u001b[39;49m, \u001b[39mtype\u001b[39;49m\u001b[39m=\u001b[39;49m\u001b[39m5\u001b[39;49m, cpp_type\u001b[39m=\u001b[39;49m\u001b[39m1\u001b[39;49m, label\u001b[39m=\u001b[39;49m\u001b[39m1\u001b[39;49m,\n\u001b[0;32m     39\u001b[0m       has_default_value\u001b[39m=\u001b[39;49m\u001b[39mTrue\u001b[39;49;00m, default_value\u001b[39m=\u001b[39;49m\u001b[39m256\u001b[39;49m,\n\u001b[0;32m     40\u001b[0m       message_type\u001b[39m=\u001b[39;49m\u001b[39mNone\u001b[39;49;00m, enum_type\u001b[39m=\u001b[39;49m\u001b[39mNone\u001b[39;49;00m, containing_type\u001b[39m=\u001b[39;49m\u001b[39mNone\u001b[39;49;00m,\n\u001b[0;32m     41\u001b[0m       is_extension\u001b[39m=\u001b[39;49m\u001b[39mFalse\u001b[39;49;00m, extension_scope\u001b[39m=\u001b[39;49m\u001b[39mNone\u001b[39;49;00m,\n\u001b[0;32m     42\u001b[0m       serialized_options\u001b[39m=\u001b[39;49m\u001b[39mNone\u001b[39;49;00m, file\u001b[39m=\u001b[39;49mDESCRIPTOR),\n\u001b[0;32m     43\u001b[0m     _descriptor\u001b[39m.\u001b[39mFieldDescriptor(\n\u001b[0;32m     44\u001b[0m       name\u001b[39m=\u001b[39m\u001b[39m'\u001b[39m\u001b[39mwidth\u001b[39m\u001b[39m'\u001b[39m, full_name\u001b[39m=\u001b[39m\u001b[39m'\u001b[39m\u001b[39mobject_detection.protos.GridAnchorGenerator.width\u001b[39m\u001b[39m'\u001b[39m, index\u001b[39m=\u001b[39m\u001b[39m1\u001b[39m,\n\u001b[0;32m     45\u001b[0m       number\u001b[39m=\u001b[39m\u001b[39m2\u001b[39m, \u001b[39mtype\u001b[39m\u001b[39m=\u001b[39m\u001b[39m5\u001b[39m, cpp_type\u001b[39m=\u001b[39m\u001b[39m1\u001b[39m, label\u001b[39m=\u001b[39m\u001b[39m1\u001b[39m,\n\u001b[0;32m     46\u001b[0m       has_default_value\u001b[39m=\u001b[39m\u001b[39mTrue\u001b[39;00m, default_value\u001b[39m=\u001b[39m\u001b[39m256\u001b[39m,\n\u001b[0;32m     47\u001b[0m       message_type\u001b[39m=\u001b[39m\u001b[39mNone\u001b[39;00m, enum_type\u001b[39m=\u001b[39m\u001b[39mNone\u001b[39;00m, containing_type\u001b[39m=\u001b[39m\u001b[39mNone\u001b[39;00m,\n\u001b[0;32m     48\u001b[0m       is_extension\u001b[39m=\u001b[39m\u001b[39mFalse\u001b[39;00m, extension_scope\u001b[39m=\u001b[39m\u001b[39mNone\u001b[39;00m,\n\u001b[0;32m     49\u001b[0m       serialized_options\u001b[39m=\u001b[39m\u001b[39mNone\u001b[39;00m, file\u001b[39m=\u001b[39mDESCRIPTOR),\n\u001b[0;32m     50\u001b[0m     _descriptor\u001b[39m.\u001b[39mFieldDescriptor(\n\u001b[0;32m     51\u001b[0m       name\u001b[39m=\u001b[39m\u001b[39m'\u001b[39m\u001b[39mheight_stride\u001b[39m\u001b[39m'\u001b[39m, full_name\u001b[39m=\u001b[39m\u001b[39m'\u001b[39m\u001b[39mobject_detection.protos.GridAnchorGenerator.height_stride\u001b[39m\u001b[39m'\u001b[39m, index\u001b[39m=\u001b[39m\u001b[39m2\u001b[39m,\n\u001b[0;32m     52\u001b[0m       number\u001b[39m=\u001b[39m\u001b[39m3\u001b[39m, \u001b[39mtype\u001b[39m\u001b[39m=\u001b[39m\u001b[39m5\u001b[39m, cpp_type\u001b[39m=\u001b[39m\u001b[39m1\u001b[39m, label\u001b[39m=\u001b[39m\u001b[39m1\u001b[39m,\n\u001b[0;32m     53\u001b[0m       has_default_value\u001b[39m=\u001b[39m\u001b[39mTrue\u001b[39;00m, default_value\u001b[39m=\u001b[39m\u001b[39m16\u001b[39m,\n\u001b[0;32m     54\u001b[0m       message_type\u001b[39m=\u001b[39m\u001b[39mNone\u001b[39;00m, enum_type\u001b[39m=\u001b[39m\u001b[39mNone\u001b[39;00m, containing_type\u001b[39m=\u001b[39m\u001b[39mNone\u001b[39;00m,\n\u001b[0;32m     55\u001b[0m       is_extension\u001b[39m=\u001b[39m\u001b[39mFalse\u001b[39;00m, extension_scope\u001b[39m=\u001b[39m\u001b[39mNone\u001b[39;00m,\n\u001b[0;32m     56\u001b[0m       serialized_options\u001b[39m=\u001b[39m\u001b[39mNone\u001b[39;00m, file\u001b[39m=\u001b[39mDESCRIPTOR),\n\u001b[0;32m     57\u001b[0m     _descriptor\u001b[39m.\u001b[39mFieldDescriptor(\n\u001b[0;32m     58\u001b[0m       name\u001b[39m=\u001b[39m\u001b[39m'\u001b[39m\u001b[39mwidth_stride\u001b[39m\u001b[39m'\u001b[39m, full_name\u001b[39m=\u001b[39m\u001b[39m'\u001b[39m\u001b[39mobject_detection.protos.GridAnchorGenerator.width_stride\u001b[39m\u001b[39m'\u001b[39m, index\u001b[39m=\u001b[39m\u001b[39m3\u001b[39m,\n\u001b[0;32m     59\u001b[0m       number\u001b[39m=\u001b[39m\u001b[39m4\u001b[39m, \u001b[39mtype\u001b[39m\u001b[39m=\u001b[39m\u001b[39m5\u001b[39m, cpp_type\u001b[39m=\u001b[39m\u001b[39m1\u001b[39m, label\u001b[39m=\u001b[39m\u001b[39m1\u001b[39m,\n\u001b[0;32m     60\u001b[0m       has_default_value\u001b[39m=\u001b[39m\u001b[39mTrue\u001b[39;00m, default_value\u001b[39m=\u001b[39m\u001b[39m16\u001b[39m,\n\u001b[0;32m     61\u001b[0m       message_type\u001b[39m=\u001b[39m\u001b[39mNone\u001b[39;00m, enum_type\u001b[39m=\u001b[39m\u001b[39mNone\u001b[39;00m, containing_type\u001b[39m=\u001b[39m\u001b[39mNone\u001b[39;00m,\n\u001b[0;32m     62\u001b[0m       is_extension\u001b[39m=\u001b[39m\u001b[39mFalse\u001b[39;00m, extension_scope\u001b[39m=\u001b[39m\u001b[39mNone\u001b[39;00m,\n\u001b[0;32m     63\u001b[0m       serialized_options\u001b[39m=\u001b[39m\u001b[39mNone\u001b[39;00m, file\u001b[39m=\u001b[39mDESCRIPTOR),\n\u001b[0;32m     64\u001b[0m     _descriptor\u001b[39m.\u001b[39mFieldDescriptor(\n\u001b[0;32m     65\u001b[0m       name\u001b[39m=\u001b[39m\u001b[39m'\u001b[39m\u001b[39mheight_offset\u001b[39m\u001b[39m'\u001b[39m, full_name\u001b[39m=\u001b[39m\u001b[39m'\u001b[39m\u001b[39mobject_detection.protos.GridAnchorGenerator.height_offset\u001b[39m\u001b[39m'\u001b[39m, index\u001b[39m=\u001b[39m\u001b[39m4\u001b[39m,\n\u001b[0;32m     66\u001b[0m       number\u001b[39m=\u001b[39m\u001b[39m5\u001b[39m, \u001b[39mtype\u001b[39m\u001b[39m=\u001b[39m\u001b[39m5\u001b[39m, cpp_type\u001b[39m=\u001b[39m\u001b[39m1\u001b[39m, label\u001b[39m=\u001b[39m\u001b[39m1\u001b[39m,\n\u001b[0;32m     67\u001b[0m       has_default_value\u001b[39m=\u001b[39m\u001b[39mTrue\u001b[39;00m, default_value\u001b[39m=\u001b[39m\u001b[39m0\u001b[39m,\n\u001b[0;32m     68\u001b[0m       message_type\u001b[39m=\u001b[39m\u001b[39mNone\u001b[39;00m, enum_type\u001b[39m=\u001b[39m\u001b[39mNone\u001b[39;00m, containing_type\u001b[39m=\u001b[39m\u001b[39mNone\u001b[39;00m,\n\u001b[0;32m     69\u001b[0m       is_extension\u001b[39m=\u001b[39m\u001b[39mFalse\u001b[39;00m, extension_scope\u001b[39m=\u001b[39m\u001b[39mNone\u001b[39;00m,\n\u001b[0;32m     70\u001b[0m       serialized_options\u001b[39m=\u001b[39m\u001b[39mNone\u001b[39;00m, file\u001b[39m=\u001b[39mDESCRIPTOR),\n\u001b[0;32m     71\u001b[0m     _descriptor\u001b[39m.\u001b[39mFieldDescriptor(\n\u001b[0;32m     72\u001b[0m       name\u001b[39m=\u001b[39m\u001b[39m'\u001b[39m\u001b[39mwidth_offset\u001b[39m\u001b[39m'\u001b[39m, full_name\u001b[39m=\u001b[39m\u001b[39m'\u001b[39m\u001b[39mobject_detection.protos.GridAnchorGenerator.width_offset\u001b[39m\u001b[39m'\u001b[39m, index\u001b[39m=\u001b[39m\u001b[39m5\u001b[39m,\n\u001b[0;32m     73\u001b[0m       number\u001b[39m=\u001b[39m\u001b[39m6\u001b[39m, \u001b[39mtype\u001b[39m\u001b[39m=\u001b[39m\u001b[39m5\u001b[39m, cpp_type\u001b[39m=\u001b[39m\u001b[39m1\u001b[39m, label\u001b[39m=\u001b[39m\u001b[39m1\u001b[39m,\n\u001b[0;32m     74\u001b[0m       has_default_value\u001b[39m=\u001b[39m\u001b[39mTrue\u001b[39;00m, default_value\u001b[39m=\u001b[39m\u001b[39m0\u001b[39m,\n\u001b[0;32m     75\u001b[0m       message_type\u001b[39m=\u001b[39m\u001b[39mNone\u001b[39;00m, enum_type\u001b[39m=\u001b[39m\u001b[39mNone\u001b[39;00m, containing_type\u001b[39m=\u001b[39m\u001b[39mNone\u001b[39;00m,\n\u001b[0;32m     76\u001b[0m       is_extension\u001b[39m=\u001b[39m\u001b[39mFalse\u001b[39;00m, extension_scope\u001b[39m=\u001b[39m\u001b[39mNone\u001b[39;00m,\n\u001b[0;32m     77\u001b[0m       serialized_options\u001b[39m=\u001b[39m\u001b[39mNone\u001b[39;00m, file\u001b[39m=\u001b[39mDESCRIPTOR),\n\u001b[0;32m     78\u001b[0m     _descriptor\u001b[39m.\u001b[39mFieldDescriptor(\n\u001b[0;32m     79\u001b[0m       name\u001b[39m=\u001b[39m\u001b[39m'\u001b[39m\u001b[39mscales\u001b[39m\u001b[39m'\u001b[39m, full_name\u001b[39m=\u001b[39m\u001b[39m'\u001b[39m\u001b[39mobject_detection.protos.GridAnchorGenerator.scales\u001b[39m\u001b[39m'\u001b[39m, index\u001b[39m=\u001b[39m\u001b[39m6\u001b[39m,\n\u001b[0;32m     80\u001b[0m       number\u001b[39m=\u001b[39m\u001b[39m7\u001b[39m, \u001b[39mtype\u001b[39m\u001b[39m=\u001b[39m\u001b[39m2\u001b[39m, cpp_type\u001b[39m=\u001b[39m\u001b[39m6\u001b[39m, label\u001b[39m=\u001b[39m\u001b[39m3\u001b[39m,\n\u001b[0;32m     81\u001b[0m       has_default_value\u001b[39m=\u001b[39m\u001b[39mFalse\u001b[39;00m, default_value\u001b[39m=\u001b[39m[],\n\u001b[0;32m     82\u001b[0m       message_type\u001b[39m=\u001b[39m\u001b[39mNone\u001b[39;00m, enum_type\u001b[39m=\u001b[39m\u001b[39mNone\u001b[39;00m, containing_type\u001b[39m=\u001b[39m\u001b[39mNone\u001b[39;00m,\n\u001b[0;32m     83\u001b[0m       is_extension\u001b[39m=\u001b[39m\u001b[39mFalse\u001b[39;00m, extension_scope\u001b[39m=\u001b[39m\u001b[39mNone\u001b[39;00m,\n\u001b[0;32m     84\u001b[0m       serialized_options\u001b[39m=\u001b[39m\u001b[39mNone\u001b[39;00m, file\u001b[39m=\u001b[39mDESCRIPTOR),\n\u001b[0;32m     85\u001b[0m     _descriptor\u001b[39m.\u001b[39mFieldDescriptor(\n\u001b[0;32m     86\u001b[0m       name\u001b[39m=\u001b[39m\u001b[39m'\u001b[39m\u001b[39maspect_ratios\u001b[39m\u001b[39m'\u001b[39m, full_name\u001b[39m=\u001b[39m\u001b[39m'\u001b[39m\u001b[39mobject_detection.protos.GridAnchorGenerator.aspect_ratios\u001b[39m\u001b[39m'\u001b[39m, index\u001b[39m=\u001b[39m\u001b[39m7\u001b[39m,\n\u001b[0;32m     87\u001b[0m       number\u001b[39m=\u001b[39m\u001b[39m8\u001b[39m, \u001b[39mtype\u001b[39m\u001b[39m=\u001b[39m\u001b[39m2\u001b[39m, cpp_type\u001b[39m=\u001b[39m\u001b[39m6\u001b[39m, label\u001b[39m=\u001b[39m\u001b[39m3\u001b[39m,\n\u001b[0;32m     88\u001b[0m       has_default_value\u001b[39m=\u001b[39m\u001b[39mFalse\u001b[39;00m, default_value\u001b[39m=\u001b[39m[],\n\u001b[0;32m     89\u001b[0m       message_type\u001b[39m=\u001b[39m\u001b[39mNone\u001b[39;00m, enum_type\u001b[39m=\u001b[39m\u001b[39mNone\u001b[39;00m, containing_type\u001b[39m=\u001b[39m\u001b[39mNone\u001b[39;00m,\n\u001b[0;32m     90\u001b[0m       is_extension\u001b[39m=\u001b[39m\u001b[39mFalse\u001b[39;00m, extension_scope\u001b[39m=\u001b[39m\u001b[39mNone\u001b[39;00m,\n\u001b[0;32m     91\u001b[0m       serialized_options\u001b[39m=\u001b[39m\u001b[39mNone\u001b[39;00m, file\u001b[39m=\u001b[39mDESCRIPTOR),\n\u001b[0;32m     92\u001b[0m   ],\n\u001b[0;32m     93\u001b[0m   extensions\u001b[39m=\u001b[39m[\n\u001b[0;32m     94\u001b[0m   ],\n\u001b[0;32m     95\u001b[0m   nested_types\u001b[39m=\u001b[39m[],\n\u001b[0;32m     96\u001b[0m   enum_types\u001b[39m=\u001b[39m[\n\u001b[0;32m     97\u001b[0m   ],\n\u001b[0;32m     98\u001b[0m   serialized_options\u001b[39m=\u001b[39m\u001b[39mNone\u001b[39;00m,\n\u001b[0;32m     99\u001b[0m   is_extendable\u001b[39m=\u001b[39m\u001b[39mFalse\u001b[39;00m,\n\u001b[0;32m    100\u001b[0m   syntax\u001b[39m=\u001b[39m\u001b[39m'\u001b[39m\u001b[39mproto2\u001b[39m\u001b[39m'\u001b[39m,\n\u001b[0;32m    101\u001b[0m   extension_ranges\u001b[39m=\u001b[39m[],\n\u001b[0;32m    102\u001b[0m   oneofs\u001b[39m=\u001b[39m[\n\u001b[0;32m    103\u001b[0m   ],\n\u001b[0;32m    104\u001b[0m   serialized_start\u001b[39m=\u001b[39m\u001b[39m81\u001b[39m,\n\u001b[0;32m    105\u001b[0m   serialized_end\u001b[39m=\u001b[39m\u001b[39m286\u001b[39m,\n\u001b[0;32m    106\u001b[0m )\n\u001b[0;32m    108\u001b[0m DESCRIPTOR\u001b[39m.\u001b[39mmessage_types_by_name[\u001b[39m'\u001b[39m\u001b[39mGridAnchorGenerator\u001b[39m\u001b[39m'\u001b[39m] \u001b[39m=\u001b[39m _GRIDANCHORGENERATOR\n\u001b[0;32m    109\u001b[0m _sym_db\u001b[39m.\u001b[39mRegisterFileDescriptor(DESCRIPTOR)\n",
      "File \u001b[1;32mc:\\Users\\k10dh\\anaconda3\\envs\\TP2\\lib\\site-packages\\google\\protobuf\\descriptor.py:561\u001b[0m, in \u001b[0;36mFieldDescriptor.__new__\u001b[1;34m(cls, name, full_name, index, number, type, cpp_type, label, default_value, message_type, enum_type, containing_type, is_extension, extension_scope, options, serialized_options, has_default_value, containing_oneof, json_name, file, create_key)\u001b[0m\n\u001b[0;32m    555\u001b[0m \u001b[39mdef\u001b[39;00m \u001b[39m__new__\u001b[39m(\u001b[39mcls\u001b[39m, name, full_name, index, number, \u001b[39mtype\u001b[39m, cpp_type, label,\n\u001b[0;32m    556\u001b[0m             default_value, message_type, enum_type, containing_type,\n\u001b[0;32m    557\u001b[0m             is_extension, extension_scope, options\u001b[39m=\u001b[39m\u001b[39mNone\u001b[39;00m,\n\u001b[0;32m    558\u001b[0m             serialized_options\u001b[39m=\u001b[39m\u001b[39mNone\u001b[39;00m,\n\u001b[0;32m    559\u001b[0m             has_default_value\u001b[39m=\u001b[39m\u001b[39mTrue\u001b[39;00m, containing_oneof\u001b[39m=\u001b[39m\u001b[39mNone\u001b[39;00m, json_name\u001b[39m=\u001b[39m\u001b[39mNone\u001b[39;00m,\n\u001b[0;32m    560\u001b[0m             file\u001b[39m=\u001b[39m\u001b[39mNone\u001b[39;00m, create_key\u001b[39m=\u001b[39m\u001b[39mNone\u001b[39;00m):  \u001b[39m# pylint: disable=redefined-builtin\u001b[39;00m\n\u001b[1;32m--> 561\u001b[0m   _message\u001b[39m.\u001b[39;49mMessage\u001b[39m.\u001b[39;49m_CheckCalledFromGeneratedFile()\n\u001b[0;32m    562\u001b[0m   \u001b[39mif\u001b[39;00m is_extension:\n\u001b[0;32m    563\u001b[0m     \u001b[39mreturn\u001b[39;00m _message\u001b[39m.\u001b[39mdefault_pool\u001b[39m.\u001b[39mFindExtensionByName(full_name)\n",
      "\u001b[1;31mTypeError\u001b[0m: Descriptors cannot not be created directly.\nIf this call came from a _pb2.py file, your generated code is out of date and must be regenerated with protoc >= 3.19.0.\nIf you cannot immediately regenerate your protos, some other possible workarounds are:\n 1. Downgrade the protobuf package to 3.20.x or lower.\n 2. Set PROTOCOL_BUFFERS_PYTHON_IMPLEMENTATION=python (but this will use pure-Python parsing and will be much slower).\n\nMore information: https://developers.google.com/protocol-buffers/docs/news/2022-05-06#python-updates"
     ]
    }
   ],
   "source": [
    "import tensorflow as tf\n",
    "from object_detection.builders import model_builder\n",
    "\n",
    "# 설정 파일 경로\n",
    "config_path = \"D:\\Study\\TeamProject_2\\faster_rcnn_resnet50_v1_640x640_coco17_tpu-8.config\"\n",
    "\n",
    "# 모델 빌더 생성\n",
    "model_builder = model_builder.ModelBuilder()\n",
    "\n",
    "# 모델 구조 정의\n",
    "model = model_builder.build(model_config_path=config_path, is_training=False)\n",
    "\n",
    "# 모델 구조 확인\n",
    "print(model)\n",
    "\n",
    "# 체크포인트 파일 경로\n",
    "checkpoint_path = 'D:\\Study\\TeamProject_2\\ckpt-26.data-00000-of-00001'\n",
    "\n",
    "# 체크포인트 로더\n",
    "checkpoint = tf.train.Checkpoint(model=model)\n",
    "checkpoint.restore(checkpoint_path)\n",
    "\n",
    "# 학습이 완료된 모델 객체 생성\n",
    "trained_model = model"
   ]
  },
  {
   "cell_type": "code",
   "execution_count": null,
   "metadata": {},
   "outputs": [],
   "source": [
    "import tensorflow as tf\n",
    "\n",
    "# 학습이 완료된 모델 객체\n",
    "trained_model = ...\n",
    "\n",
    "# 모델 저장 경로\n",
    "save_path = 'D:\\Study\\TeamProject_2'\n",
    "\n",
    "# 모델 저장\n",
    "tf.saved_model.save(trained_model, save_path)"
   ]
  },
  {
   "cell_type": "code",
   "execution_count": 3,
   "metadata": {},
   "outputs": [
    {
     "ename": "NameError",
     "evalue": "name 'model' is not defined",
     "output_type": "error",
     "traceback": [
      "\u001b[1;31m---------------------------------------------------------------------------\u001b[0m",
      "\u001b[1;31mNameError\u001b[0m                                 Traceback (most recent call last)",
      "Cell \u001b[1;32mIn[3], line 18\u001b[0m\n\u001b[0;32m     15\u001b[0m input_tensor \u001b[39m/\u001b[39m\u001b[39m=\u001b[39m \u001b[39m255.0\u001b[39m\n\u001b[0;32m     17\u001b[0m \u001b[39m# 모델 추론\u001b[39;00m\n\u001b[1;32m---> 18\u001b[0m detections \u001b[39m=\u001b[39m model\u001b[39m.\u001b[39mpredict(input_tensor)\n\u001b[0;32m     20\u001b[0m \u001b[39m# 시각화\u001b[39;00m\n\u001b[0;32m     21\u001b[0m category_index \u001b[39m=\u001b[39m {\u001b[39m1\u001b[39m: {\u001b[39m'\u001b[39m\u001b[39mid\u001b[39m\u001b[39m'\u001b[39m: \u001b[39m1\u001b[39m, \u001b[39m'\u001b[39m\u001b[39mname\u001b[39m\u001b[39m'\u001b[39m: \u001b[39m'\u001b[39m\u001b[39mobject\u001b[39m\u001b[39m'\u001b[39m}}\n",
      "\u001b[1;31mNameError\u001b[0m: name 'model' is not defined"
     ]
    }
   ],
   "source": [
    "import cv2\n",
    "import numpy as np\n",
    "import tensorflow as tf\n",
    "from object_detection.utils import visualization_utils as vis_util\n",
    "\n",
    "# 이미지 로드\n",
    "image_path = 'D:\\Study\\TeamProject_2\\dataset_filtered\\C000002_003_0009_C_D_F_0.jpg'\n",
    "image = cv2.imread(image_path)\n",
    "image_rgb = cv2.cvtColor(image, cv2.COLOR_BGR2RGB)\n",
    "\n",
    "# 이미지 전처리\n",
    "input_image = np.expand_dims(image_rgb, axis=0)\n",
    "input_tensor = tf.convert_to_tensor(input_image, dtype=tf.float32)\n",
    "input_tensor = tf.image.resize(input_tensor, (320, 320))\n",
    "input_tensor /= 255.0\n",
    "\n",
    "# 모델 추론\n",
    "detections = model.predict(input_tensor)\n",
    "\n",
    "# 시각화\n",
    "category_index = {1: {'id': 1, 'name': 'object'}}\n",
    "vis_util.visualize_boxes_and_labels_on_image_array(\n",
    "    image_rgb,\n",
    "    detections['detection_boxes'][0].numpy(),\n",
    "    detections['detection_classes'][0].numpy().astype(np.int32),\n",
    "    detections['detection_scores'][0].numpy(),\n",
    "    category_index,\n",
    "    instance_masks=detections['detection_masks'][0].numpy(),\n",
    "    use_normalized_coordinates=True,\n",
    "    line_thickness=8,\n",
    "    min_score_thresh=0.5\n",
    ")\n",
    "\n",
    "# 시각화 결과 출력\n",
    "cv2.imshow('Object Detection', image_rgb)\n",
    "cv2.waitKey(0)\n",
    "cv2.destroyAllWindows()"
   ]
  },
  {
   "cell_type": "code",
   "execution_count": null,
   "metadata": {},
   "outputs": [],
   "source": [
    "import tensorflow as tf\n",
    "from object_detection.utils import config_util\n",
    "from object_detection.protos import pipeline_pb2\n",
    "from google.protobuf import text_format\n",
    "from object_detection.utils import label_map_util\n",
    "from object_detection.utils import visualization_utils as viz_utils\n",
    "from object_detection.builders import model_builder\n",
    "\n",
    "# 파이프라인 설정 파일 경로\n",
    "pipeline_config_path = 'D:\\Study\\TeamProject_2\\faster_rcnn_resnet101_v1_640x640_coco17_tpu-8.config'\n",
    "\n",
    "# 파이프라인 설정 파일 읽기\n",
    "configs = config_util.get_configs_from_pipeline_file(pipeline_config_path)\n",
    "\n",
    "# 모델 설정에 따라 모델 빌드\n",
    "detection_model = model_builder.build(model_config=configs['model'], is_training=True)\n",
    "\n",
    "# 라벨맵 파일 경로\n",
    "label_map_path = '/path/to/your/label_map.pbtxt'\n",
    "\n",
    "# 라벨맵 로드\n",
    "label_map = label_map_util.load_labelmap(label_map_path)\n",
    "categories = label_map_util.convert_label_map_to_categories(label_map, max_num_classes=90)\n",
    "category_index = label_map_util.create_category_index(categories)\n",
    "\n",
    "# 훈련 루프 설정\n",
    "train_steps = 200000\n",
    "strategy = tf.distribute.MirroredStrategy()\n",
    "\n",
    "with strategy.scope():\n",
    "  # 훈련을 위한 파이프라인 설정\n",
    "  pipeline_config = pipeline_pb2.TrainEvalPipelineConfig()\n",
    "  with tf.io.gfile.GFile(pipeline_config_path, \"r\") as f:                                                                                                                                                                                                                     \n",
    "    proto_str = f.read()                                                                                                                                                                                                                                          \n",
    "    text_format.Merge(proto_str, pipeline_config)\n",
    "\n",
    "  # 모델 설정\n",
    "  model_config = pipeline_config.model\n",
    "  detection_model = model_builder.build(model_config=model_config, is_training=True)\n",
    "\n",
    "  # ... (생략)\n",
    "  # 여기서 훈련에 필요한 세부 설정을 수행할 수 있습니다. \n",
    "\n",
    "# 훈련 루프\n",
    "for step in range(1, train_steps+1):\n",
    "  # ... (생략)\n",
    "  # 여기서 훈련에 필요한 입력 데이터를 준비하고, \n",
    "  # detection_model.train() 메소드를 호출하여 모델을 훈련시킵니다"
   ]
  }
 ],
 "metadata": {
  "kernelspec": {
   "display_name": "TP2",
   "language": "python",
   "name": "python3"
  },
  "language_info": {
   "codemirror_mode": {
    "name": "ipython",
    "version": 3
   },
   "file_extension": ".py",
   "mimetype": "text/x-python",
   "name": "python",
   "nbconvert_exporter": "python",
   "pygments_lexer": "ipython3",
   "version": "3.8.16"
  },
  "orig_nbformat": 4
 },
 "nbformat": 4,
 "nbformat_minor": 2
}
